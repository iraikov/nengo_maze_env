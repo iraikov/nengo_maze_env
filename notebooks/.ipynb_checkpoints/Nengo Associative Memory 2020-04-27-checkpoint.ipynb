{
 "cells": [
  {
   "cell_type": "code",
   "execution_count": 291,
   "metadata": {},
   "outputs": [],
   "source": [
    "import numpy as np\n",
    "from functools import partial\n",
    "import matplotlib.pyplot as plt\n",
    "import nengo\n",
    "from nengo.utils.least_squares_solvers import SVD\n",
    "from scipy.interpolate import Rbf, CubicSpline\n",
    "from rbf.pde.nodes import disperse, poisson_disc_nodes\n"
   ]
  },
  {
   "cell_type": "code",
   "execution_count": 292,
   "metadata": {},
   "outputs": [],
   "source": [
    "\n",
    "\n",
    "seed=21\n",
    "\n",
    "n_units = 25\n",
    "n_inputs = 1250\n",
    "d_inputs = 2\n",
    "d_outputs = 1\n",
    "\n",
    "mem_dimension = 1.0\n",
    "vert = np.array([[-mem_dimension,-mem_dimension],[-mem_dimension,mem_dimension],\n",
    "                 [mem_dimension,mem_dimension],[mem_dimension,-mem_dimension]])\n",
    "smp = np.array([[0,1],[1,2],[2,3],[3,0]])\n",
    "\n",
    "field_width = 0.25\n",
    "field_eps = field_width / 3\n",
    "nodes, groups, _ = poisson_disc_nodes(field_width, (vert, smp))\n",
    "input_centers = nodes.T\n",
    "n_units = int(input_centers.shape[1])"
   ]
  },
  {
   "cell_type": "code",
   "execution_count": 293,
   "metadata": {},
   "outputs": [
    {
     "data": {
      "image/png": "[encoded data removed]",
      "text/plain": [
       "<Figure size 432x288 with 1 Axes>"
      ]
     },
     "metadata": {
      "needs_background": "light"
     },
     "output_type": "display_data"
    }
   ],
   "source": [
    "plt.figure()\n",
    "plt.scatter(np.asarray(input_centers[0,:]).reshape((-1,)), np.asarray(input_centers[1,:]).reshape((-1,)));\n"
   ]
  },
  {
   "cell_type": "code",
   "execution_count": 294,
   "metadata": {},
   "outputs": [],
   "source": [
    "input_ip_dict = {}\n",
    "for i, X in enumerate(input_centers.T):\n",
    "    x_obs = np.asarray(X).flatten()\n",
    "    u_obs = np.asarray([[1.0]]).flatten()\n",
    "    rbf_args = np.concatenate((x_obs, u_obs))\n",
    "    input_ip_dict[i] = Rbf(*rbf_args, function='gaussian', epsilon=field_eps)\n"
   ]
  },
  {
   "cell_type": "code",
   "execution_count": 295,
   "metadata": {},
   "outputs": [
    {
     "name": "stdout",
     "output_type": "stream",
     "text": [
      "(2500, 53)\n"
     ]
    }
   ],
   "source": [
    "input_meshgrid = np.meshgrid(*[np.linspace(-1, 1) for d in range(d_inputs)], indexing='ij')\n",
    "X_train = np.column_stack([ x.flatten() for x in input_meshgrid])\n",
    "input_maps = []\n",
    "for i in range(len(input_ip_dict)):\n",
    "    input_map = input_ip_dict[i](*X_train.T)\n",
    "    input_maps.append(input_map.ravel())\n",
    "input_map_matrix = np.column_stack(input_maps)\n",
    "#y_train = 2. * input_map_matrix - 1\n",
    "y_train = input_map_matrix\n",
    "print(input_map_matrix.shape)"
   ]
  },
  {
   "cell_type": "code",
   "execution_count": 101,
   "metadata": {},
   "outputs": [
    {
     "data": {
      "text/plain": [
       "[<matplotlib.lines.Line2D at 0x7f6f27c9fdd8>]"
      ]
     },
     "execution_count": 101,
     "metadata": {},
     "output_type": "execute_result"
    },
    {
     "data": {
      "image/png": "[encoded data removed]",
      "text/plain": [
       "<Figure size 432x288 with 1 Axes>"
      ]
     },
     "metadata": {
      "needs_background": "light"
     },
     "output_type": "display_data"
    }
   ],
   "source": [
    "plt.plot(input_map_matrix[:,1])"
   ]
  },
  {
   "cell_type": "code",
   "execution_count": 178,
   "metadata": {},
   "outputs": [
    {
     "name": "stdout",
     "output_type": "stream",
     "text": [
      "(2500, 2)\n",
      "(2500, 53)\n"
     ]
    }
   ],
   "source": [
    "learning_rate = 1e-4\n",
    "solver = nengo.solvers.LstsqL2nz(reg=0.01)\n",
    "\n",
    "ens_params = dict(\n",
    "    max_rates=nengo.dists.Choice([20.]),\n",
    "    intercepts=nengo.dists.Choice([0.1]),\n",
    ")\n",
    "print(X_train.shape)\n",
    "print(y_train.shape)"
   ]
  },
  {
   "cell_type": "code",
   "execution_count": 214,
   "metadata": {},
   "outputs": [],
   "source": [
    "am_model = nengo.Network(seed=seed)\n",
    "with am_model:\n",
    "    am_ensembles = {}\n",
    "    am_conns = {}\n",
    "    target_val = nengo.Node(None, size_in=d_outputs)\n",
    "    am_input = nengo.Ensemble(n_neurons=n_inputs, dimensions=d_inputs, \n",
    "                              neuron_type=nengo.RectifiedLinear(),\n",
    "                              eval_points=X_train,\n",
    "                              **ens_params)\n",
    "\n",
    "    am_memory = nengo.Ensemble(n_neurons=n_units, dimensions=d_outputs, \n",
    "                               neuron_type=nengo.LIFRate())\n",
    "                               \n",
    "    am_output = nengo.Ensemble(n_neurons=n_units, dimensions=d_outputs, \n",
    "                               neuron_type=nengo.LIFRate())\n",
    "                               \n",
    "    am_error = nengo.Ensemble(n_neurons=n_units, dimensions=d_outputs, \n",
    "                              neuron_type=nengo.LIFRate())\n",
    "                              \n",
    "    \n",
    "    learn_conn = nengo.Connection(am_memory, am_output, \n",
    "                                  function=lambda x: [0],\n",
    "                                  learning_rule_type=nengo.PES(learning_rate),\n",
    "                                  synapse=None)\n",
    "    \n",
    "    nengo.Connection(am_output, am_error)\n",
    "    nengo.Connection(target_val, am_error, transform=-1)\n",
    "    nengo.Connection(am_error, learn_conn.learning_rule)\n",
    "\n",
    "    inhib_learning = nengo.Node(None, size_in=1)\n",
    "    nengo.Connection(inhib_learning, am_error.neurons, transform=[[-2]] * am_error.n_neurons)\n",
    "\n",
    "    for item in range(n_units):\n",
    "        \n",
    "        am_ens = nengo.Ensemble(n_neurons=1, dimensions=d_outputs,\n",
    "                                neuron_type=nengo.LIFRate(),\n",
    "                                **ens_params)\n",
    "        \n",
    "                                             \n",
    "        am_conn = nengo.Connection(am_input, am_ens.neurons, \n",
    "                                   synapse=nengo.Lowpass(0.01),\n",
    "                                   eval_points=X_train, \n",
    "                                   function=y_train[:,item].reshape((-1, d_outputs)),\n",
    "                                                                    \n",
    "                                   solver=solver)\n",
    "        \n",
    "        \n",
    "        am_ensembles[item] = am_ens\n",
    "        am_conns[item] = am_conn\n",
    "\n",
    "        nengo.Connection(am_ens, am_memory)\n",
    "        surround_inhib = -0.2 * np.ones((am_output.n_neurons, 1))\n",
    "        surround_inhib[item] = 0.\n",
    "        nengo.Connection(am_ens, am_memory.neurons, transform=surround_inhib)\n",
    "    "
   ]
  },
  {
   "cell_type": "code",
   "execution_count": 215,
   "metadata": {},
   "outputs": [],
   "source": [
    "n_items = 5\n",
    "\n",
    "rng = np.random.RandomState(seed=seed)\n",
    "keys = nengo.dists.UniformHypersphere(surface=True).sample(\n",
    "    n_items, d_inputs, rng=rng)\n",
    "values = nengo.dists.UniformHypersphere(surface=False).sample(\n",
    "    n_items, d_outputs, rng=rng)"
   ]
  },
  {
   "cell_type": "code",
   "execution_count": 216,
   "metadata": {},
   "outputs": [],
   "source": [
    "def cycle_array(x, period, dt=0.001):\n",
    "    \"\"\"Cycles through the elements\"\"\"\n",
    "    i_every = int(round(period / dt))\n",
    "    if i_every != period / dt:\n",
    "        raise ValueError(\"dt (%s) does not divide period (%s)\" % (dt, period))\n",
    "\n",
    "    def f(t):\n",
    "        i = int(round((t - dt) / dt))  # t starts at dt\n",
    "        return x[int(i / i_every) % len(x)]\n",
    "\n",
    "    return f"
   ]
  },
  {
   "cell_type": "code",
   "execution_count": 217,
   "metadata": {},
   "outputs": [],
   "source": [
    "dt = 0.001\n",
    "period = 0.5\n",
    "T = period * n_items * 2\n"
   ]
  },
  {
   "cell_type": "code",
   "execution_count": 218,
   "metadata": {},
   "outputs": [],
   "source": [
    "with am_model:\n",
    "    stim_keys = nengo.Node(output=cycle_array(keys, period, dt))\n",
    "    stim_values = nengo.Node(output=cycle_array(values, period, dt))\n",
    "    learning = nengo.Node(output=lambda t: int(t >= T / 2))\n",
    "    recall = nengo.Node(size_in=d_outputs)\n",
    "    nengo.Connection(learning, inhib_learning, synapse=None)\n",
    "    nengo.Connection(stim_keys, am_input)\n",
    "    nengo.Connection(stim_values, target_val)\n",
    "    p_keys = nengo.Probe(stim_keys, synapse=None)\n",
    "    p_values = nengo.Probe(stim_values, synapse=None)\n",
    "    p_output = nengo.Probe(am_output)\n",
    "    p_inhib_learning = nengo.Probe(inhib_learning)\n",
    "    p_learning = nengo.Probe(learning)\n",
    "    p_error = nengo.Probe(am_error)\n",
    "    p_memory = nengo.Probe(am_memory)\n",
    "    "
   ]
  },
  {
   "cell_type": "code",
   "execution_count": 219,
   "metadata": {},
   "outputs": [
    {
     "data": {
      "application/vdom.v1+json": {
       "attributes": {},
       "tagName": "div"
      },
      "text/html": [
       "\n",
       "                <script>\n",
       "                    if (Jupyter.version.split(\".\")[0] < 5) {\n",
       "                        var pb = document.getElementById(\"2bf473ba-126e-417f-a4a0-01c2399af3ad\");\n",
       "                        var text = document.createTextNode(\n",
       "                            \"HMTL progress bar requires Jupyter Notebook >= \" +\n",
       "                            \"5.0 or Jupyter Lab. Alternatively, you can use \" +\n",
       "                            \"TerminalProgressBar().\");\n",
       "                        pb.parentNode.insertBefore(text, pb);\n",
       "                    }\n",
       "                </script>\n",
       "                <div id=\"2bf473ba-126e-417f-a4a0-01c2399af3ad\" style=\"\n",
       "                    width: 100%;\n",
       "                    border: 1px solid #cfcfcf;\n",
       "                    border-radius: 4px;\n",
       "                    text-align: center;\n",
       "                    position: relative;\">\n",
       "                  <div class=\"pb-text\" style=\"\n",
       "                      position: absolute;\n",
       "                      width: 100%;\">\n",
       "                    0%\n",
       "                  </div>\n",
       "                  <div class=\"pb-fill\" style=\"\n",
       "                      background-color: #bdd2e6;\n",
       "                      width: 0%;\">\n",
       "                    <style type=\"text/css\" scoped=\"scoped\">\n",
       "                        @keyframes pb-fill-anim {\n",
       "                            0% { background-position: 0 0; }\n",
       "                            100% { background-position: 100px 0; }\n",
       "                        }\n",
       "                    </style>\n",
       "                    &nbsp;\n",
       "                  </div>\n",
       "                </div>"
      ],
      "text/plain": [
       "HtmlProgressBar cannot be displayed. Please use the TerminalProgressBar. It can be enabled with `nengo.rc.set('progress', 'progress_bar', 'nengo.utils.progress.TerminalProgressBar')`."
      ]
     },
     "metadata": {},
     "output_type": "display_data"
    },
    {
     "data": {
      "application/vdom.v1+json": {
       "attributes": {
        "id": "90e0ede1-9b4e-4c8f-9b1a-864cf1d5cf80",
        "style": {
         "border": "1px solid #cfcfcf",
         "borderRadius": "4px",
         "boxSizing": "border-box",
         "position": "relative",
         "textAlign": "center",
         "width": "100%"
        }
       },
       "children": [
        {
         "attributes": {
          "class": "pb-text",
          "style": {
           "position": "absolute",
           "width": "100%"
          }
         },
         "children": [
          "Build finished in 0:00:09."
         ],
         "tagName": "div"
        },
        {
         "attributes": {
          "class": "pb-fill",
          "style": {
           "animation": "none",
           "backgroundColor": "#bdd2e6",
           "backgroundImage": "none",
           "backgroundSize": "100px 100%",
           "width": "100%"
          }
         },
         "children": [
          {
           "attributes": {
            "scoped": "scoped",
            "type": "text/css"
           },
           "children": [
            "\n                        @keyframes pb-fill-anim {\n                            0% { background-position: 0 0; }\n                            100% { background-position: 100px 0; }\n                        }}"
           ],
           "tagName": "style"
          },
          " "
         ],
         "tagName": "div"
        }
       ],
       "tagName": "div"
      },
      "text/html": [
       "<script>\n",
       "              (function () {\n",
       "                  var root = document.getElementById('2bf473ba-126e-417f-a4a0-01c2399af3ad');\n",
       "                  var text = root.getElementsByClassName('pb-text')[0];\n",
       "                  var fill = root.getElementsByClassName('pb-fill')[0];\n",
       "\n",
       "                  text.innerHTML = 'Build finished in 0:00:09.';\n",
       "                  \n",
       "            fill.style.width = '100%';\n",
       "            fill.style.animation = 'pb-fill-anim 2s linear infinite';\n",
       "            fill.style.backgroundSize = '100px 100%';\n",
       "            fill.style.backgroundImage = 'repeating-linear-gradient(' +\n",
       "                '90deg, #bdd2e6, #edf2f8 40%, #bdd2e6 80%, #bdd2e6)';\n",
       "        \n",
       "                  \n",
       "                fill.style.animation = 'none';\n",
       "                fill.style.backgroundImage = 'none';\n",
       "            \n",
       "              })();\n",
       "        </script>"
      ]
     },
     "metadata": {},
     "output_type": "display_data"
    },
    {
     "data": {
      "application/vdom.v1+json": {
       "attributes": {},
       "tagName": "div"
      },
      "text/html": [
       "\n",
       "                <script>\n",
       "                    if (Jupyter.version.split(\".\")[0] < 5) {\n",
       "                        var pb = document.getElementById(\"b65752be-6681-43a3-9dfc-cf0b9f7a988e\");\n",
       "                        var text = document.createTextNode(\n",
       "                            \"HMTL progress bar requires Jupyter Notebook >= \" +\n",
       "                            \"5.0 or Jupyter Lab. Alternatively, you can use \" +\n",
       "                            \"TerminalProgressBar().\");\n",
       "                        pb.parentNode.insertBefore(text, pb);\n",
       "                    }\n",
       "                </script>\n",
       "                <div id=\"b65752be-6681-43a3-9dfc-cf0b9f7a988e\" style=\"\n",
       "                    width: 100%;\n",
       "                    border: 1px solid #cfcfcf;\n",
       "                    border-radius: 4px;\n",
       "                    text-align: center;\n",
       "                    position: relative;\">\n",
       "                  <div class=\"pb-text\" style=\"\n",
       "                      position: absolute;\n",
       "                      width: 100%;\">\n",
       "                    0%\n",
       "                  </div>\n",
       "                  <div class=\"pb-fill\" style=\"\n",
       "                      background-color: #bdd2e6;\n",
       "                      width: 0%;\">\n",
       "                    <style type=\"text/css\" scoped=\"scoped\">\n",
       "                        @keyframes pb-fill-anim {\n",
       "                            0% { background-position: 0 0; }\n",
       "                            100% { background-position: 100px 0; }\n",
       "                        }\n",
       "                    </style>\n",
       "                    &nbsp;\n",
       "                  </div>\n",
       "                </div>"
      ],
      "text/plain": [
       "HtmlProgressBar cannot be displayed. Please use the TerminalProgressBar. It can be enabled with `nengo.rc.set('progress', 'progress_bar', 'nengo.utils.progress.TerminalProgressBar')`."
      ]
     },
     "metadata": {},
     "output_type": "display_data"
    },
    {
     "data": {
      "application/vdom.v1+json": {
       "attributes": {
        "id": "2ed5bfe6-2200-4e8b-b9c9-97d83138ac4b",
        "style": {
         "border": "1px solid #cfcfcf",
         "borderRadius": "4px",
         "boxSizing": "border-box",
         "position": "relative",
         "textAlign": "center",
         "width": "100%"
        }
       },
       "children": [
        {
         "attributes": {
          "class": "pb-text",
          "style": {
           "position": "absolute",
           "width": "100%"
          }
         },
         "children": [
          "Simulation finished in 0:01:56."
         ],
         "tagName": "div"
        },
        {
         "attributes": {
          "class": "pb-fill",
          "style": {
           "animation": "none",
           "backgroundColor": "#bdd2e6",
           "backgroundImage": "none",
           "transition": "width 0.1s linear",
           "width": "100%"
          }
         },
         "children": [
          {
           "attributes": {
            "scoped": "scoped",
            "type": "text/css"
           },
           "children": [
            "\n                        @keyframes pb-fill-anim {\n                            0% { background-position: 0 0; }\n                            100% { background-position: 100px 0; }\n                        }}"
           ],
           "tagName": "style"
          },
          " "
         ],
         "tagName": "div"
        }
       ],
       "tagName": "div"
      },
      "text/html": [
       "<script>\n",
       "              (function () {\n",
       "                  var root = document.getElementById('b65752be-6681-43a3-9dfc-cf0b9f7a988e');\n",
       "                  var text = root.getElementsByClassName('pb-text')[0];\n",
       "                  var fill = root.getElementsByClassName('pb-fill')[0];\n",
       "\n",
       "                  text.innerHTML = 'Simulation finished in 0:01:56.';\n",
       "                  \n",
       "            if (100.0 > 0.) {\n",
       "                fill.style.transition = 'width 0.1s linear';\n",
       "            } else {\n",
       "                fill.style.transition = 'none';\n",
       "            }\n",
       "\n",
       "            fill.style.width = '100.0%';\n",
       "            fill.style.animation = 'none';\n",
       "            fill.style.backgroundImage = 'none'\n",
       "        \n",
       "                  \n",
       "                fill.style.animation = 'none';\n",
       "                fill.style.backgroundImage = 'none';\n",
       "            \n",
       "              })();\n",
       "        </script>"
      ]
     },
     "metadata": {},
     "output_type": "display_data"
    }
   ],
   "source": [
    "with nengo.Simulator(am_model, dt=dt) as sim:\n",
    "    sim.run(T)\n",
    "t = sim.trange()"
   ]
  },
  {
   "cell_type": "code",
   "execution_count": 220,
   "metadata": {},
   "outputs": [
    {
     "data": {
      "image/png": "[encoded data removed]",
      "text/plain": [
       "<Figure size 432x288 with 1 Axes>"
      ]
     },
     "metadata": {
      "needs_background": "light"
     },
     "output_type": "display_data"
    },
    {
     "data": {
      "image/png": "[encoded data removed]",
      "text/plain": [
       "<Figure size 432x288 with 1 Axes>"
      ]
     },
     "metadata": {
      "needs_background": "light"
     },
     "output_type": "display_data"
    },
    {
     "data": {
      "image/png": "[encoded data removed]",
      "text/plain": [
       "<Figure size 432x288 with 1 Axes>"
      ]
     },
     "metadata": {
      "needs_background": "light"
     },
     "output_type": "display_data"
    },
    {
     "data": {
      "image/png": "[encoded data removed]",
      "text/plain": [
       "<Figure size 432x288 with 1 Axes>"
      ]
     },
     "metadata": {
      "needs_background": "light"
     },
     "output_type": "display_data"
    },
    {
     "data": {
      "image/png": "[encoded data removed]",
      "text/plain": [
       "<Figure size 432x288 with 1 Axes>"
      ]
     },
     "metadata": {
      "needs_background": "light"
     },
     "output_type": "display_data"
    },
    {
     "data": {
      "image/png": "[encoded data removed]",
      "text/plain": [
       "<Figure size 432x288 with 1 Axes>"
      ]
     },
     "metadata": {
      "needs_background": "light"
     },
     "output_type": "display_data"
    },
    {
     "data": {
      "image/png": "[encoded data removed]",
      "text/plain": [
       "<Figure size 432x288 with 1 Axes>"
      ]
     },
     "metadata": {
      "needs_background": "light"
     },
     "output_type": "display_data"
    }
   ],
   "source": [
    "plt.figure()\n",
    "plt.title(\"Keys\")\n",
    "plt.plot(t, sim.data[p_keys])\n",
    "plt.ylim(-2, 2)\n",
    "\n",
    "plt.figure()\n",
    "plt.title(\"Values\")\n",
    "plt.plot(t, sim.data[p_values])\n",
    "plt.ylim(-1, 1)\n",
    "\n",
    "plt.figure()\n",
    "plt.title(\"Output\")\n",
    "plt.plot(t, sim.data[p_output])\n",
    "plt.ylim(-1.0, 1.0);\n",
    "\n",
    "plt.figure()\n",
    "plt.title(\"Error\")\n",
    "plt.plot(t, sim.data[p_error])\n",
    "plt.ylim(-2.0, 2.0);\n",
    "\n",
    "plt.figure()\n",
    "plt.title(\"Memory vs. Values\")\n",
    "plt.plot(t, sim.data[p_memory])\n",
    "plt.plot(t, sim.data[p_values])\n",
    "plt.ylim(-2.0, 2.0);\n",
    "\n",
    "plt.figure()\n",
    "plt.title(\"Memory vs. Keys\")\n",
    "plt.plot(t, sim.data[p_memory])\n",
    "plt.plot(t, sim.data[p_keys])\n",
    "plt.ylim(-2.0, 2.0);\n",
    "\n",
    "plt.figure()\n",
    "plt.title(\"Inhibit Learning\")\n",
    "plt.plot(t, sim.data[p_learning])\n",
    "plt.ylim(-2.0, 2.0);"
   ]
  },
  {
   "cell_type": "code",
   "execution_count": null,
   "metadata": {},
   "outputs": [],
   "source": []
  }
 ],
 "metadata": {
  "kernelspec": {
   "display_name": "Python 3",
   "language": "python",
   "name": "python3"
  },
  "language_info": {
   "codemirror_mode": {
    "name": "ipython",
    "version": 3
   },
   "file_extension": ".py",
   "mimetype": "text/x-python",
   "name": "python",
   "nbconvert_exporter": "python",
   "pygments_lexer": "ipython3",
   "version": "3.6.9"
  }
 },
 "nbformat": 4,
 "nbformat_minor": 4
}
