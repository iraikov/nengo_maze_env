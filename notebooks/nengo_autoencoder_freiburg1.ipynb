{
 "cells": [
  {
   "cell_type": "code",
   "execution_count": null,
   "metadata": {
    "colab": {
     "base_uri": "https://localhost:8080/",
     "height": 280
    },
    "colab_type": "code",
    "id": "UO-Lk-tkGuLe",
    "outputId": "4c312972-7c58-47de-8502-34026ad6b77e"
   },
   "outputs": [],
   "source": [
    "\n"
   ]
  },
  {
   "cell_type": "code",
   "execution_count": null,
   "metadata": {
    "colab": {
     "base_uri": "https://localhost:8080/",
     "height": 1000
    },
    "colab_type": "code",
    "id": "SMmY_IQyG1fj",
    "outputId": "5f5580d7-571a-4d5d-aa63-3d99ebc9ea07"
   },
   "outputs": [],
   "source": []
  },
  {
   "cell_type": "code",
   "execution_count": 1,
   "metadata": {
    "colab": {},
    "colab_type": "code",
    "id": "5JCGpPiHHlC1"
   },
   "outputs": [
    {
     "name": "stderr",
     "output_type": "stream",
     "text": [
      "In /home/igr/.local/lib/python3.6/site-packages/matplotlib/mpl-data/stylelib/_classic_test.mplstyle: \n",
      "The text.latex.preview rcparam was deprecated in Matplotlib 3.3 and will be removed two minor releases later.\n",
      "In /home/igr/.local/lib/python3.6/site-packages/matplotlib/mpl-data/stylelib/_classic_test.mplstyle: \n",
      "The mathtext.fallback_to_cm rcparam was deprecated in Matplotlib 3.3 and will be removed two minor releases later.\n",
      "In /home/igr/.local/lib/python3.6/site-packages/matplotlib/mpl-data/stylelib/_classic_test.mplstyle: Support for setting the 'mathtext.fallback_to_cm' rcParam is deprecated since 3.3 and will be removed two minor releases later; use 'mathtext.fallback : 'cm' instead.\n",
      "In /home/igr/.local/lib/python3.6/site-packages/matplotlib/mpl-data/stylelib/_classic_test.mplstyle: \n",
      "The validate_bool_maybe_none function was deprecated in Matplotlib 3.3 and will be removed two minor releases later.\n",
      "In /home/igr/.local/lib/python3.6/site-packages/matplotlib/mpl-data/stylelib/_classic_test.mplstyle: \n",
      "The savefig.jpeg_quality rcparam was deprecated in Matplotlib 3.3 and will be removed two minor releases later.\n",
      "In /home/igr/.local/lib/python3.6/site-packages/matplotlib/mpl-data/stylelib/_classic_test.mplstyle: \n",
      "The keymap.all_axes rcparam was deprecated in Matplotlib 3.3 and will be removed two minor releases later.\n",
      "In /home/igr/.local/lib/python3.6/site-packages/matplotlib/mpl-data/stylelib/_classic_test.mplstyle: \n",
      "The animation.avconv_path rcparam was deprecated in Matplotlib 3.3 and will be removed two minor releases later.\n",
      "In /home/igr/.local/lib/python3.6/site-packages/matplotlib/mpl-data/stylelib/_classic_test.mplstyle: \n",
      "The animation.avconv_args rcparam was deprecated in Matplotlib 3.3 and will be removed two minor releases later.\n",
      "/usr/lib/python3.6/importlib/_bootstrap.py:219: RuntimeWarning: compiletime version 3.5 of module '_yaml' does not match runtime version 3.6\n",
      "  return f(*args, **kwds)\n"
     ]
    }
   ],
   "source": [
    "%matplotlib inline\n",
    "\n",
    "from urllib.request import urlretrieve\n",
    "\n",
    "import nengo\n",
    "import tensorflow as tf\n",
    "import numpy as np\n",
    "import matplotlib.pyplot as plt\n",
    "\n",
    "import nengo_dl"
   ]
  },
  {
   "cell_type": "code",
   "execution_count": 2,
   "metadata": {
    "colab": {
     "base_uri": "https://localhost:8080/",
     "height": 52
    },
    "colab_type": "code",
    "id": "1Sb4DPXSHTac",
    "outputId": "e0a48327-9476-47dc-c14b-ed145395464f"
   },
   "outputs": [],
   "source": [
    "#download mnist dataset\n",
    "(train_data, _), (test_data, _) = tf.keras.datasets.mnist.load_data()\n",
    "\n",
    "#flatten images\n",
    "train_data = train_data.reshape((train_data.shape[0], -1))\n",
    "test_data = test_data.reshape((test_data.shape[0], -1))\n"
   ]
  },
  {
   "cell_type": "code",
   "execution_count": 3,
   "metadata": {
    "colab": {},
    "colab_type": "code",
    "id": "L7Eodv92H12l"
   },
   "outputs": [],
   "source": [
    "with nengo.Network(seed = 0) as auto_net:\n",
    "    auto_net.config[nengo.Ensemble].max_rates = nengo.dists.Choice([200])\n",
    "    auto_net.config[nengo.Ensemble].intercepts = nengo.dists.Choice([0])\n",
    "    auto_net.config[nengo.Connection].synapse = None # this disables synaptic filtering\n",
    "\n",
    "    # n_type = nengo.PoissonSpiking(nengo.RectifiedLinear())\n",
    "    # n_type = nengo.RectifiedLinear()\n",
    "    n_type = nengo.SpikingRectifiedLinear() \n",
    "\n",
    "    n_in = 784\n",
    "    inter_dim = 128\n",
    "\n",
    "    inp_node = nengo.Node(np.zeros(n_in))\n",
    "\n",
    "    # first layer\n",
    "    enc1 = nengo.Ensemble(inter_dim, 1, neuron_type = n_type)\n",
    "    nengo.Connection(inp_node, enc1.neurons, transform=nengo_dl.dists.Glorot())\n",
    "\n",
    "    # second layer\n",
    "    enc2 = nengo.Ensemble(inter_dim, 1, neuron_type = n_type)\n",
    "    nengo.Connection(enc1.neurons, enc2.neurons, transform=nengo_dl.dists.Glorot())\n",
    "\n",
    "    # output layer\n",
    "    outp = nengo.Ensemble(n_in, 1, neuron_type=n_type)\n",
    "    nengo.Connection(enc2.neurons, outp.neurons, transform=nengo_dl.dists.Glorot())\n",
    "\n",
    "    # probes\n",
    "    p_c = nengo.Probe(outp.neurons)\n",
    "    p_c_filt = nengo.Probe(outp.neurons, synapse=0.01, label=\"out_p_filt\")\n",
    "\n",
    "\n",
    "    # from mnist example\n",
    "    # out_p = nengo.Probe(outp, label=\"out_p\")\n",
    "    # out_p_filt = nengo.Probe(outp, synapse=0.1, label=\"out_p_filt\")\n",
    "\n"
   ]
  },
  {
   "cell_type": "code",
   "execution_count": 4,
   "metadata": {
    "colab": {
     "base_uri": "https://localhost:8080/",
     "height": 193
    },
    "colab_type": "code",
    "id": "d7G0kY_4j5R1",
    "outputId": "7ee7cea9-7af9-434a-ffb8-7f3474fd4a64"
   },
   "outputs": [
    {
     "name": "stdout",
     "output_type": "stream",
     "text": [
      "Build finished in 0:00:00                                                      \n",
      "Optimization finished in 0:00:00                                               \n",
      "|           Constructing graph: pre-build stage (0%)           | ETA:  --:--:--"
     ]
    },
    {
     "name": "stderr",
     "output_type": "stream",
     "text": [
      "/home/igr/.local/lib/python3.6/site-packages/nengo_dl/simulator.py:467: UserWarning: No GPU support detected. See https://www.nengo.ai/nengo-dl/installation.html#installing-tensorflow for instructions on setting up TensorFlow with GPU support.\n",
      "  \"No GPU support detected. See \"\n"
     ]
    },
    {
     "name": "stdout",
     "output_type": "stream",
     "text": [
      "Construction finished in 0:00:00                                               \n",
      "|##############Constructing graph: build stage (78%)             | ETA: 0:00:00"
     ]
    },
    {
     "name": "stderr",
     "output_type": "stream",
     "text": [
      "/home/igr/.local/lib/python3.6/site-packages/nengo_dl/simulator.py:1030: UserWarning: Running for one timestep, but the network contains synaptic filters (which will introduce at least a one-timestep delay); did you mean to set synapse=None?\n",
      "  \"Running for one timestep, but the network contains \"\n"
     ]
    },
    {
     "name": "stdout",
     "output_type": "stream",
     "text": [
      "Constructing graph: build stage finished in 0:00:00                            \r"
     ]
    }
   ],
   "source": [
    "minibatch_size = 50\n",
    "\n",
    "with nengo_dl.Simulator(network=auto_net, minibatch_size=minibatch_size) as sim:\n",
    "  sim.predict(np.ones((minibatch_size, 1, n_in)));"
   ]
  },
  {
   "cell_type": "markdown",
   "metadata": {
    "colab_type": "text",
    "id": "7pMFZ532IeYO"
   },
   "source": [
    "## Training\n",
    "\n",
    "A variety of training techniques are available. The current training technique mirrors traditional neural network training, mapping roughly to TensorFlow"
   ]
  },
  {
   "cell_type": "code",
   "execution_count": 5,
   "metadata": {
    "colab": {},
    "colab_type": "code",
    "id": "o2FG6-XfITna"
   },
   "outputs": [],
   "source": [
    "# changing the model to more closely match how tensorflow works\n",
    "\n",
    "for ens in auto_net.all_ensembles:\n",
    "  ens.gain = nengo.dists.Choice([1]) # set all gains to 1\n",
    "  ens.bias = nengo.dists.Choice([0]) # set all biases to 0 \n",
    "\n",
    "# disables synaptic filtering.. eventually we want to use it though\n",
    "for conn in auto_net.all_connections:\n",
    "  conn.synapse = None "
   ]
  },
  {
   "cell_type": "code",
   "execution_count": 6,
   "metadata": {
    "colab": {},
    "colab_type": "code",
    "id": "TMsfoAsTJMRo"
   },
   "outputs": [],
   "source": [
    "# reshaping the data again for use in simulation, since with spiking networks simulations are temporal\n",
    "# shape: (batch_size, n_steps, n)\n",
    "\n",
    "train_data = train_data[:, None, :]\n",
    "\n",
    "# # when testing our network with spiking neurons we will need to run it \n",
    "# # over time, so we repeat the input/target data for a number of \n",
    "# # timesteps.\n",
    "\n",
    "n_steps = 100\n",
    "test_data = np.tile(test_data[:, None, :], (1, n_steps, 1))\n"
   ]
  },
  {
   "cell_type": "code",
   "execution_count": 7,
   "metadata": {
    "colab": {
     "base_uri": "https://localhost:8080/",
     "height": 823
    },
    "colab_type": "code",
    "id": "4T-f6RgBJtgg",
    "outputId": "38d812b8-e1a3-4b0f-81c3-d08812e9c649"
   },
   "outputs": [
    {
     "name": "stdout",
     "output_type": "stream",
     "text": [
      "Build finished in 0:00:00                                                      \n",
      "Optimization finished in 0:00:00                                               \n",
      "|##############Constructing graph: build stage (35%)             | ETA: 0:00:00"
     ]
    },
    {
     "name": "stderr",
     "output_type": "stream",
     "text": [
      "/home/igr/.local/lib/python3.6/site-packages/nengo/builder/ensemble.py:115: NengoWarning: Specifying the gains and biases for <Ensemble (unlabeled) at 0x7f0b77c77908> imposes a set of maximum firing rates and intercepts. Further specifying either max_rates or intercepts has no effect.\n",
      "  \"either max_rates or intercepts has no effect.\" % ens\n",
      "/home/igr/.local/lib/python3.6/site-packages/nengo/builder/ensemble.py:115: NengoWarning: Specifying the gains and biases for <Ensemble (unlabeled) at 0x7f0b9bb85898> imposes a set of maximum firing rates and intercepts. Further specifying either max_rates or intercepts has no effect.\n",
      "  \"either max_rates or intercepts has no effect.\" % ens\n",
      "/home/igr/.local/lib/python3.6/site-packages/nengo/builder/ensemble.py:115: NengoWarning: Specifying the gains and biases for <Ensemble (unlabeled) at 0x7f0b77c77c88> imposes a set of maximum firing rates and intercepts. Further specifying either max_rates or intercepts has no effect.\n",
      "  \"either max_rates or intercepts has no effect.\" % ens\n"
     ]
    },
    {
     "name": "stdout",
     "output_type": "stream",
     "text": [
      "Construction finished in 0:00:00                                               \n",
      "Epoch 1/10\n",
      "|##############Constructing graph: build stage (92%)########     | ETA: 0:00:00"
     ]
    },
    {
     "name": "stderr",
     "output_type": "stream",
     "text": [
      "/home/igr/.local/lib/python3.6/site-packages/nengo_dl/simulator.py:1777: UserWarning: Number of elements (1) in ['ndarray'] does not match number of Probes (2); consider using an explicit input dictionary in this case, so that the assignment of data to objects is unambiguous.\n",
      "  len(objects),\n"
     ]
    },
    {
     "name": "stdout",
     "output_type": "stream",
     "text": [
      "1200/1200 [==============================] - 13s 11ms/step - loss: 1409.6179 - probe_loss: 1409.6179\n",
      "Epoch 2/10\n",
      "1200/1200 [==============================] - 13s 11ms/step - loss: 945.0902 - probe_loss: 945.0902\n",
      "Epoch 3/10\n",
      "1200/1200 [==============================] - 13s 11ms/step - loss: 859.1498 - probe_loss: 859.1498\n",
      "Epoch 4/10\n",
      "1200/1200 [==============================] - 13s 11ms/step - loss: 819.3806 - probe_loss: 819.3806\n",
      "Epoch 5/10\n",
      "1200/1200 [==============================] - 13s 11ms/step - loss: 792.6276 - probe_loss: 792.6276\n",
      "Epoch 6/10\n",
      "1200/1200 [==============================] - 14s 11ms/step - loss: 772.7725 - probe_loss: 772.7725\n",
      "Epoch 7/10\n",
      "1200/1200 [==============================] - 14s 11ms/step - loss: 758.3553 - probe_loss: 758.3553\n",
      "Epoch 8/10\n",
      "1200/1200 [==============================] - 13s 11ms/step - loss: 738.1925 - probe_loss: 738.1925\n",
      "Epoch 9/10\n",
      "1200/1200 [==============================] - 13s 11ms/step - loss: 713.2304 - probe_loss: 713.2304\n",
      "Epoch 10/10\n",
      "1200/1200 [==============================] - 13s 11ms/step - loss: 702.9203 - probe_loss: 702.9203\n"
     ]
    }
   ],
   "source": [
    "with nengo_dl.Simulator(auto_net, minibatch_size=minibatch_size) as sim:\n",
    "  sim.compile(optimizer = tf.optimizers.RMSprop(1e-3), \n",
    "              loss = {p_c: tf.losses.mse, # mean squared error as loss function\n",
    "                      p_c_filt: None}\n",
    "             ) \n",
    "\n",
    "  # run training loop. If using spiking neurons, this converts the model to a rate based approximation and then does training\n",
    "  sim.fit(train_data, train_data, epochs = 10)\n",
    "  sim.freeze_params(auto_net)"
   ]
  },
  {
   "cell_type": "code",
   "execution_count": 8,
   "metadata": {},
   "outputs": [
    {
     "name": "stdout",
     "output_type": "stream",
     "text": [
      "Build finished in 0:00:00                                                      \n",
      "Optimization finished in 0:00:00                                               \n",
      "Construction finished in 0:00:00                                               \n",
      "200/200 [==============================] - 317s 2s/step - loss: 20772.9355 - probe_loss: 20772.9355\n",
      "Test error:  OrderedDict([('loss', 20772.935546875), ('probe_loss', 20772.935546875)])\n",
      "Constructing graph: build stage finished in 0:00:00                            \r"
     ]
    },
    {
     "data": {
      "image/png": "[encoded data removed]",
      "text/plain": [
       "<Figure size 432x288 with 1 Axes>"
      ]
     },
     "metadata": {
      "needs_background": "light"
     },
     "output_type": "display_data"
    }
   ],
   "source": [
    "for conn in auto_net.all_connections:\n",
    "    conn.synapse = 0.005\n",
    "\n",
    "with nengo_dl.Simulator(auto_net, minibatch_size=minibatch_size) as sim:\n",
    "\n",
    "  sim.compile(optimizer = tf.optimizers.RMSprop(1e-3), \n",
    "              loss = {p_c: tf.losses.mse, # mean squared error as loss function\n",
    "                      p_c_filt: None}\n",
    "             )\n",
    "  # evaluate performance on test set\n",
    "  print(\"Test error: \", sim.evaluate(test_data, {p_c: test_data}))\n",
    "\n",
    "  # display example output\n",
    "  output = sim.predict(test_data[:minibatch_size]) # runs sim.predict on the first minibatch of the data \n",
    "  plt.figure()\n",
    "  # plt.imshow(output[p_c][0].reshape((28, 28)))\n",
    "  plt.imshow(output[p_c_filt][0, 99].reshape((28, 28)))"
   ]
  },
  {
   "cell_type": "code",
   "execution_count": null,
   "metadata": {},
   "outputs": [],
   "source": []
  }
 ],
 "metadata": {
  "accelerator": "GPU",
  "colab": {
   "collapsed_sections": [],
   "name": "nengo autoencoder.ipynb",
   "provenance": []
  },
  "kernelspec": {
   "display_name": "Python 3",
   "language": "python",
   "name": "python3"
  },
  "language_info": {
   "codemirror_mode": {
    "name": "ipython",
    "version": 3
   },
   "file_extension": ".py",
   "mimetype": "text/x-python",
   "name": "python",
   "nbconvert_exporter": "python",
   "pygments_lexer": "ipython3",
   "version": "3.6.8"
  }
 },
 "nbformat": 4,
 "nbformat_minor": 1
}
