{
 "cells": [
  {
   "cell_type": "code",
   "execution_count": 1,
   "metadata": {},
   "outputs": [],
   "source": [
    "import numpy as np\n",
    "import matplotlib.pyplot as plt\n",
    "import nengo\n",
    "import gym\n",
    "from gym import wrappers\n",
    "from datetime import datetime\n"
   ]
  },
  {
   "cell_type": "code",
   "execution_count": 2,
   "metadata": {},
   "outputs": [],
   "source": [
    "def plot_running_avg(total_rewards):\n",
    "    N = len(total_rewards)\n",
    "    running_avg = np.empty(N)\n",
    "    for t in range(N):\n",
    "        running_avg[t] = total_rewards[max(0, t-100):(t+1)].mean()\n",
    "    plt.plot(running_avg)\n",
    "    plt.title(\"Running Average of rewards\")\n",
    "    plt.xlabel(\"Simulation time\")\n",
    "    plt.ylabel(\"Score\")\n",
    "    plt.show()"
   ]
  },
  {
   "cell_type": "code",
   "execution_count": 3,
   "metadata": {},
   "outputs": [],
   "source": [
    "\n",
    "\n",
    "\n",
    "class EnvironmentInterface(object):\n",
    "    \n",
    "    def __init__(self, env, step_size =5):\n",
    "        self.env = env\n",
    "        self.n_actions = env.action_space.n\n",
    "        self.state_dim = env.observation_space.shape[0]\n",
    "        self.t=0\n",
    "        self.stepsize = step_size\n",
    "        self.output = np.zeros(self.n_actions)\n",
    "        self.state = env.reset()\n",
    "        self.reward= 0\n",
    "        self.current_action = 0\n",
    "        self.reward_arr = []\n",
    "        self.total_reward = 0\n",
    "\n",
    "    def take_action(self,action):\n",
    "        self.state,self.reward,self.done,_= self.env.step(action)\n",
    "        self.total_reward += self.reward\n",
    "        if self.done:\n",
    "            self.reward = -2\n",
    "            self.total_reward += self.reward\n",
    "            self.reward_arr.append(self.total_reward)\n",
    "            self.state = self.env.reset()\n",
    "            self.total_reward = 0\n",
    "\n",
    "    def get_reward(self,t):\n",
    "        return self.reward\n",
    "    \n",
    "    def sensor(self,t):\n",
    "        return self.state\n",
    "\n",
    "    \n",
    "    def step(self,t,x):\n",
    "        if int(t*1000)%self.stepsize == 0:\n",
    "            self.current_action = np.argmax(x) #np.argmax(self.output)#\n",
    "            self.take_action(self.current_action)\n",
    "    \n",
    "    def calculate_Q(self,t,x):\n",
    "\n",
    "        if int(t*1000) % self.stepsize == 1:\n",
    "            qmax = x[np.argmax(x)]\n",
    "            self.output = x\n",
    "            self.output[self.current_action] = 0.9*qmax + self.reward\n",
    "            \n",
    "        return self.output\n",
    "    \n",
    "        "
   ]
  },
  {
   "cell_type": "code",
   "execution_count": 4,
   "metadata": {},
   "outputs": [],
   "source": [
    "env_CartPole = gym.make('CartPole-v0').env\n",
    "\n",
    "env_iface=EnvironmentInterface(env_CartPole)\n",
    "\n",
    "state_dimensions=env_iface.state_dim\n",
    "n_actions = env_iface.n_actions\n",
    "\n"
   ]
  },
  {
   "cell_type": "code",
   "execution_count": 5,
   "metadata": {},
   "outputs": [],
   "source": [
    "tau = 0.01\n",
    "\n",
    "fast_tau = 0\n",
    "slow_tau = 0.01\n",
    "n_action = 2 \n",
    "\n",
    "model=nengo.Network()\n",
    "\n",
    "with model:\n",
    "    \n",
    "    sensor = nengo.Node(env_iface.sensor)\n",
    "    reward = nengo.Node(env_iface.get_reward)\n",
    "    \n",
    "    sensor_net = nengo.Ensemble(n_neurons=1000, dimensions=env_iface.state_dim, radius=10)\n",
    "    \n",
    "    nengo.Connection(sensor, sensor_net)\n",
    "    \n",
    "    action_net = nengo.Ensemble(n_neurons=1000, dimensions=env_iface.n_actions, radius=10)\n",
    "    \n",
    "    learning_conn=nengo.Connection(sensor_net, action_net,\n",
    "                                   function=lambda x:[0,0],\n",
    "                                   learning_rule_type=nengo.PES(1e-3, pre_synapse=nengo.Lowpass(slow_tau)),\n",
    "                                   synapse=nengo.Lowpass(tau))\n",
    "   \n",
    "    q_node = nengo.Node(env_iface.calculate_Q,size_in=2,size_out=2)\n",
    "    \n",
    "    step_node = nengo.Node(env_iface.step ,size_in=2)\n",
    "    \n",
    "    nengo.Connection(action_net,step_node,synapse=fast_tau)\n",
    "    \n",
    "    nengo.Connection(action_net,q_node,synapse=tau)\n",
    "    \n",
    "    \n",
    "    nengo.Connection(q_node,learning_conn.learning_rule,transform =-1,synapse=fast_tau) ##0.9*Q(s',a')+r\n",
    "    \n",
    "    nengo.Connection(action_net,learning_conn.learning_rule,transform =1,synapse=slow_tau)#Q(s,a)\n",
    "\n",
    "\n"
   ]
  },
  {
   "cell_type": "code",
   "execution_count": 6,
   "metadata": {},
   "outputs": [
    {
     "data": {
      "text/html": [
       "\n",
       "            <script type=\"text/javascript\" id=\"42198c53-028b-4161-a0e6-1a5d6aa07919\">\n",
       "            {\n",
       "                let req = new XMLHttpRequest();\n",
       "                req.addEventListener(\"load\", function() {\n",
       "                    if (this.status != 200 && this.response != 'OK') {\n",
       "                        let p = document.getElementById('42198c53-028b-4161-a0e6-1a5d6aa07919').parentNode;\n",
       "                        p.innerHTML +=\n",
       "                            'The nengo_gui.jupyter notebook server ' +\n",
       "                            'extension was not loaded. Please activate it ' +\n",
       "                            'with the following command:' +\n",
       "                            '<pre>jupyter serverextension enable ' +\n",
       "                            'nengo_gui.jupyter</pre>';\n",
       "                        p.classList.add('output_stderr');\n",
       "                    }\n",
       "                });\n",
       "                req.open('GET', './nengo/check', true);\n",
       "                req.send();\n",
       "            }\n",
       "            </script>\n",
       "        "
      ],
      "text/plain": [
       "<IPython.core.display.HTML object>"
      ]
     },
     "metadata": {},
     "output_type": "display_data"
    },
    {
     "data": {
      "application/vdom.v1+json": {
       "attributes": {
        "id": "632ee5a8-7c6b-442d-913b-1f7d1cdc841f"
       },
       "children": [
        {
         "attributes": {
          "allowfullscreen": "allowfullscreen",
          "class": "cell",
          "frameborder": "0",
          "height": "600",
          "src": "./nengo/46647/?token=4d9c2ff6ade02f09801283a090837eb22c9e418e90db1a2b",
          "style": {
           "border": "1px solid #eee",
           "boxSizing": "border-box"
          },
          "width": "100%"
         },
         "tagName": "iframe"
        }
       ],
       "tagName": "div"
      },
      "text/html": [
       "\n",
       "                <div id=\"9caa24b0-01b0-42f4-87d5-456ff89c4555\">\n",
       "                    <iframe\n",
       "                        src=\"./nengo/46647/?token=4d9c2ff6ade02f09801283a090837eb22c9e418e90db1a2b\"\n",
       "                        width=\"100%\"\n",
       "                        height=\"600\"\n",
       "                        frameborder=\"0\"\n",
       "                        class=\"cell\"\n",
       "                        style=\"border: 1px solid #eee; box-sizing: border-box;\"\n",
       "                        allowfullscreen></iframe>\n",
       "                </div>\n",
       "            "
      ]
     },
     "metadata": {},
     "output_type": "display_data"
    }
   ],
   "source": [
    "from nengo_gui.ipython import IPythonViz\n",
    "IPythonViz(model,'agent_model.py.cfg')"
   ]
  },
  {
   "cell_type": "code",
   "execution_count": 9,
   "metadata": {},
   "outputs": [
    {
     "data": {
      "image/png": "[encoded data removed]",
      "text/plain": [
       "<Figure size 432x288 with 1 Axes>"
      ]
     },
     "metadata": {
      "needs_background": "light"
     },
     "output_type": "display_data"
    }
   ],
   "source": [
    "plot_running_avg(np.array(env_iface.reward_arr))\n"
   ]
  },
  {
   "cell_type": "code",
   "execution_count": 10,
   "metadata": {},
   "outputs": [
    {
     "data": {
      "text/plain": [
       "[<matplotlib.lines.Line2D at 0x7f457deebbb0>]"
      ]
     },
     "execution_count": 10,
     "metadata": {},
     "output_type": "execute_result"
    },
    {
     "data": {
      "image/png": "[encoded data removed]",
      "text/plain": [
       "<Figure size 432x288 with 1 Axes>"
      ]
     },
     "metadata": {
      "needs_background": "light"
     },
     "output_type": "display_data"
    }
   ],
   "source": [
    "plt.plot(env_iface.reward_arr)"
   ]
  },
  {
   "cell_type": "code",
   "execution_count": null,
   "metadata": {},
   "outputs": [],
   "source": []
  }
 ],
 "metadata": {
  "kernelspec": {
   "display_name": "Python 3",
   "language": "python",
   "name": "python3"
  },
  "language_info": {
   "codemirror_mode": {
    "name": "ipython",
    "version": 3
   },
   "file_extension": ".py",
   "mimetype": "text/x-python",
   "name": "python",
   "nbconvert_exporter": "python",
   "pygments_lexer": "ipython3",
   "version": "3.8.10"
  }
 },
 "nbformat": 4,
 "nbformat_minor": 2
}
